{
 "cells": [
  {
   "cell_type": "code",
   "execution_count": 1,
   "id": "39b585fb",
   "metadata": {},
   "outputs": [
    {
     "data": {
      "application/vnd.microsoft.datawrangler.viewer.v0+json": {
       "columns": [
        {
         "name": "index",
         "rawType": "int64",
         "type": "integer"
        },
        {
         "name": "total_bill",
         "rawType": "float64",
         "type": "float"
        },
        {
         "name": "tip",
         "rawType": "float64",
         "type": "float"
        },
        {
         "name": "sex",
         "rawType": "category",
         "type": "unknown"
        },
        {
         "name": "smoker",
         "rawType": "category",
         "type": "unknown"
        },
        {
         "name": "day",
         "rawType": "category",
         "type": "unknown"
        },
        {
         "name": "time",
         "rawType": "category",
         "type": "unknown"
        },
        {
         "name": "size",
         "rawType": "int64",
         "type": "integer"
        }
       ],
       "ref": "0d04a8ab-a946-4e81-9a78-2ccab9fcea64",
       "rows": [
        [
         "0",
         "16.99",
         "1.01",
         "Female",
         "No",
         "Sun",
         "Dinner",
         "2"
        ],
        [
         "1",
         "10.34",
         "1.66",
         "Male",
         "No",
         "Sun",
         "Dinner",
         "3"
        ],
        [
         "2",
         "21.01",
         "3.5",
         "Male",
         "No",
         "Sun",
         "Dinner",
         "3"
        ],
        [
         "3",
         "23.68",
         "3.31",
         "Male",
         "No",
         "Sun",
         "Dinner",
         "2"
        ],
        [
         "4",
         "24.59",
         "3.61",
         "Female",
         "No",
         "Sun",
         "Dinner",
         "4"
        ]
       ],
       "shape": {
        "columns": 7,
        "rows": 5
       }
      },
      "text/html": [
       "<div>\n",
       "<style scoped>\n",
       "    .dataframe tbody tr th:only-of-type {\n",
       "        vertical-align: middle;\n",
       "    }\n",
       "\n",
       "    .dataframe tbody tr th {\n",
       "        vertical-align: top;\n",
       "    }\n",
       "\n",
       "    .dataframe thead th {\n",
       "        text-align: right;\n",
       "    }\n",
       "</style>\n",
       "<table border=\"1\" class=\"dataframe\">\n",
       "  <thead>\n",
       "    <tr style=\"text-align: right;\">\n",
       "      <th></th>\n",
       "      <th>total_bill</th>\n",
       "      <th>tip</th>\n",
       "      <th>sex</th>\n",
       "      <th>smoker</th>\n",
       "      <th>day</th>\n",
       "      <th>time</th>\n",
       "      <th>size</th>\n",
       "    </tr>\n",
       "  </thead>\n",
       "  <tbody>\n",
       "    <tr>\n",
       "      <th>0</th>\n",
       "      <td>16.99</td>\n",
       "      <td>1.01</td>\n",
       "      <td>Female</td>\n",
       "      <td>No</td>\n",
       "      <td>Sun</td>\n",
       "      <td>Dinner</td>\n",
       "      <td>2</td>\n",
       "    </tr>\n",
       "    <tr>\n",
       "      <th>1</th>\n",
       "      <td>10.34</td>\n",
       "      <td>1.66</td>\n",
       "      <td>Male</td>\n",
       "      <td>No</td>\n",
       "      <td>Sun</td>\n",
       "      <td>Dinner</td>\n",
       "      <td>3</td>\n",
       "    </tr>\n",
       "    <tr>\n",
       "      <th>2</th>\n",
       "      <td>21.01</td>\n",
       "      <td>3.50</td>\n",
       "      <td>Male</td>\n",
       "      <td>No</td>\n",
       "      <td>Sun</td>\n",
       "      <td>Dinner</td>\n",
       "      <td>3</td>\n",
       "    </tr>\n",
       "    <tr>\n",
       "      <th>3</th>\n",
       "      <td>23.68</td>\n",
       "      <td>3.31</td>\n",
       "      <td>Male</td>\n",
       "      <td>No</td>\n",
       "      <td>Sun</td>\n",
       "      <td>Dinner</td>\n",
       "      <td>2</td>\n",
       "    </tr>\n",
       "    <tr>\n",
       "      <th>4</th>\n",
       "      <td>24.59</td>\n",
       "      <td>3.61</td>\n",
       "      <td>Female</td>\n",
       "      <td>No</td>\n",
       "      <td>Sun</td>\n",
       "      <td>Dinner</td>\n",
       "      <td>4</td>\n",
       "    </tr>\n",
       "  </tbody>\n",
       "</table>\n",
       "</div>"
      ],
      "text/plain": [
       "   total_bill   tip     sex smoker  day    time  size\n",
       "0       16.99  1.01  Female     No  Sun  Dinner     2\n",
       "1       10.34  1.66    Male     No  Sun  Dinner     3\n",
       "2       21.01  3.50    Male     No  Sun  Dinner     3\n",
       "3       23.68  3.31    Male     No  Sun  Dinner     2\n",
       "4       24.59  3.61  Female     No  Sun  Dinner     4"
      ]
     },
     "execution_count": 1,
     "metadata": {},
     "output_type": "execute_result"
    }
   ],
   "source": [
    "import pandas as pd\n",
    "import seaborn as sns\n",
    "\n",
    "#Load a list of 'tips' received by a restaurant\n",
    "\n",
    "df = sns.load_dataset('tips')\n",
    "\n",
    "#Quick preview\n",
    "\n",
    "df.head()"
   ]
  },
  {
   "cell_type": "code",
   "execution_count": null,
   "id": "db577ac8",
   "metadata": {},
   "outputs": [
    {
     "name": "stdout",
     "output_type": "stream",
     "text": [
      "<class 'pandas.core.frame.DataFrame'>\n",
      "RangeIndex: 244 entries, 0 to 243\n",
      "Data columns (total 7 columns):\n",
      " #   Column      Non-Null Count  Dtype   \n",
      "---  ------      --------------  -----   \n",
      " 0   total_bill  244 non-null    float64 \n",
      " 1   tip         244 non-null    float64 \n",
      " 2   sex         244 non-null    category\n",
      " 3   smoker      244 non-null    category\n",
      " 4   day         244 non-null    category\n",
      " 5   time        244 non-null    category\n",
      " 6   size        244 non-null    int64   \n",
      "dtypes: category(4), float64(2), int64(1)\n",
      "memory usage: 7.4 KB\n"
     ]
    }
   ],
   "source": [
    "# Understand the data - show structure of the dataframe\n",
    "df.info() #prints information about the data (index type, data types, how many non-nulls)\n"
   ]
  },
  {
   "cell_type": "code",
   "execution_count": 3,
   "id": "9ffd8bf3",
   "metadata": {},
   "outputs": [
    {
     "data": {
      "application/vnd.microsoft.datawrangler.viewer.v0+json": {
       "columns": [
        {
         "name": "index",
         "rawType": "object",
         "type": "string"
        },
        {
         "name": "total_bill",
         "rawType": "float64",
         "type": "float"
        },
        {
         "name": "tip",
         "rawType": "float64",
         "type": "float"
        },
        {
         "name": "size",
         "rawType": "float64",
         "type": "float"
        }
       ],
       "ref": "942fe3a8-967d-4277-b6e0-19b5408ce229",
       "rows": [
        [
         "count",
         "244.0",
         "244.0",
         "244.0"
        ],
        [
         "mean",
         "19.78594262295082",
         "2.99827868852459",
         "2.569672131147541"
        ],
        [
         "std",
         "8.902411954856856",
         "1.3836381890011822",
         "0.9510998047322344"
        ],
        [
         "min",
         "3.07",
         "1.0",
         "1.0"
        ],
        [
         "25%",
         "13.3475",
         "2.0",
         "2.0"
        ],
        [
         "50%",
         "17.795",
         "2.9",
         "2.0"
        ],
        [
         "75%",
         "24.127499999999998",
         "3.5625",
         "3.0"
        ],
        [
         "max",
         "50.81",
         "10.0",
         "6.0"
        ]
       ],
       "shape": {
        "columns": 3,
        "rows": 8
       }
      },
      "text/html": [
       "<div>\n",
       "<style scoped>\n",
       "    .dataframe tbody tr th:only-of-type {\n",
       "        vertical-align: middle;\n",
       "    }\n",
       "\n",
       "    .dataframe tbody tr th {\n",
       "        vertical-align: top;\n",
       "    }\n",
       "\n",
       "    .dataframe thead th {\n",
       "        text-align: right;\n",
       "    }\n",
       "</style>\n",
       "<table border=\"1\" class=\"dataframe\">\n",
       "  <thead>\n",
       "    <tr style=\"text-align: right;\">\n",
       "      <th></th>\n",
       "      <th>total_bill</th>\n",
       "      <th>tip</th>\n",
       "      <th>size</th>\n",
       "    </tr>\n",
       "  </thead>\n",
       "  <tbody>\n",
       "    <tr>\n",
       "      <th>count</th>\n",
       "      <td>244.000000</td>\n",
       "      <td>244.000000</td>\n",
       "      <td>244.000000</td>\n",
       "    </tr>\n",
       "    <tr>\n",
       "      <th>mean</th>\n",
       "      <td>19.785943</td>\n",
       "      <td>2.998279</td>\n",
       "      <td>2.569672</td>\n",
       "    </tr>\n",
       "    <tr>\n",
       "      <th>std</th>\n",
       "      <td>8.902412</td>\n",
       "      <td>1.383638</td>\n",
       "      <td>0.951100</td>\n",
       "    </tr>\n",
       "    <tr>\n",
       "      <th>min</th>\n",
       "      <td>3.070000</td>\n",
       "      <td>1.000000</td>\n",
       "      <td>1.000000</td>\n",
       "    </tr>\n",
       "    <tr>\n",
       "      <th>25%</th>\n",
       "      <td>13.347500</td>\n",
       "      <td>2.000000</td>\n",
       "      <td>2.000000</td>\n",
       "    </tr>\n",
       "    <tr>\n",
       "      <th>50%</th>\n",
       "      <td>17.795000</td>\n",
       "      <td>2.900000</td>\n",
       "      <td>2.000000</td>\n",
       "    </tr>\n",
       "    <tr>\n",
       "      <th>75%</th>\n",
       "      <td>24.127500</td>\n",
       "      <td>3.562500</td>\n",
       "      <td>3.000000</td>\n",
       "    </tr>\n",
       "    <tr>\n",
       "      <th>max</th>\n",
       "      <td>50.810000</td>\n",
       "      <td>10.000000</td>\n",
       "      <td>6.000000</td>\n",
       "    </tr>\n",
       "  </tbody>\n",
       "</table>\n",
       "</div>"
      ],
      "text/plain": [
       "       total_bill         tip        size\n",
       "count  244.000000  244.000000  244.000000\n",
       "mean    19.785943    2.998279    2.569672\n",
       "std      8.902412    1.383638    0.951100\n",
       "min      3.070000    1.000000    1.000000\n",
       "25%     13.347500    2.000000    2.000000\n",
       "50%     17.795000    2.900000    2.000000\n",
       "75%     24.127500    3.562500    3.000000\n",
       "max     50.810000   10.000000    6.000000"
      ]
     },
     "execution_count": 3,
     "metadata": {},
     "output_type": "execute_result"
    }
   ],
   "source": [
    "#Get summary statistics\n",
    "df.describe()"
   ]
  },
  {
   "cell_type": "code",
   "execution_count": 4,
   "id": "6c941ba9",
   "metadata": {},
   "outputs": [
    {
     "data": {
      "application/vnd.microsoft.datawrangler.viewer.v0+json": {
       "columns": [
        {
         "name": "index",
         "rawType": "object",
         "type": "string"
        },
        {
         "name": "0",
         "rawType": "int64",
         "type": "integer"
        }
       ],
       "ref": "2b85e438-517f-4824-a001-56d26313ab3b",
       "rows": [
        [
         "total_bill",
         "0"
        ],
        [
         "tip",
         "0"
        ],
        [
         "sex",
         "0"
        ],
        [
         "smoker",
         "0"
        ],
        [
         "day",
         "0"
        ],
        [
         "time",
         "0"
        ],
        [
         "size",
         "0"
        ]
       ],
       "shape": {
        "columns": 1,
        "rows": 7
       }
      },
      "text/plain": [
       "total_bill    0\n",
       "tip           0\n",
       "sex           0\n",
       "smoker        0\n",
       "day           0\n",
       "time          0\n",
       "size          0\n",
       "dtype: int64"
      ]
     },
     "execution_count": 4,
     "metadata": {},
     "output_type": "execute_result"
    }
   ],
   "source": [
    "#Check for missing values (checks for the null values and then counts how many there are)\n",
    "df.isnull().sum()"
   ]
  },
  {
   "cell_type": "code",
   "execution_count": 5,
   "id": "910b021b",
   "metadata": {},
   "outputs": [
    {
     "data": {
      "application/vnd.microsoft.datawrangler.viewer.v0+json": {
       "columns": [
        {
         "name": "day",
         "rawType": "category",
         "type": "unknown"
        },
        {
         "name": "count",
         "rawType": "int64",
         "type": "integer"
        }
       ],
       "ref": "a3502f05-3454-4b0e-acd1-db07743d1ef8",
       "rows": [
        [
         "Sat",
         "87"
        ],
        [
         "Sun",
         "76"
        ],
        [
         "Thur",
         "62"
        ],
        [
         "Fri",
         "19"
        ]
       ],
       "shape": {
        "columns": 1,
        "rows": 4
       }
      },
      "text/plain": [
       "day\n",
       "Sat     87\n",
       "Sun     76\n",
       "Thur    62\n",
       "Fri     19\n",
       "Name: count, dtype: int64"
      ]
     },
     "execution_count": 5,
     "metadata": {},
     "output_type": "execute_result"
    }
   ],
   "source": [
    "#Explore columns\n",
    "#Value counts for a categorical column\n",
    "df['day'].value_counts()"
   ]
  },
  {
   "cell_type": "code",
   "execution_count": 6,
   "id": "771ce98c",
   "metadata": {},
   "outputs": [
    {
     "data": {
      "text/plain": [
       "np.float64(2.99827868852459)"
      ]
     },
     "execution_count": 6,
     "metadata": {},
     "output_type": "execute_result"
    }
   ],
   "source": [
    "#Average tip amount\n",
    "df['tip'].mean()"
   ]
  },
  {
   "cell_type": "code",
   "execution_count": 8,
   "id": "cc1df65b",
   "metadata": {},
   "outputs": [
    {
     "data": {
      "application/vnd.microsoft.datawrangler.viewer.v0+json": {
       "columns": [
        {
         "name": "index",
         "rawType": "object",
         "type": "string"
        },
        {
         "name": "tip",
         "rawType": "float64",
         "type": "float"
        },
        {
         "name": "total_bill",
         "rawType": "float64",
         "type": "float"
        }
       ],
       "ref": "c2ca727b-cf37-4afe-98a7-de6f71e4f599",
       "rows": [
        [
         "tip",
         "1.0",
         "0.6757341092113647"
        ],
        [
         "total_bill",
         "0.6757341092113647",
         "1.0"
        ]
       ],
       "shape": {
        "columns": 2,
        "rows": 2
       }
      },
      "text/html": [
       "<div>\n",
       "<style scoped>\n",
       "    .dataframe tbody tr th:only-of-type {\n",
       "        vertical-align: middle;\n",
       "    }\n",
       "\n",
       "    .dataframe tbody tr th {\n",
       "        vertical-align: top;\n",
       "    }\n",
       "\n",
       "    .dataframe thead th {\n",
       "        text-align: right;\n",
       "    }\n",
       "</style>\n",
       "<table border=\"1\" class=\"dataframe\">\n",
       "  <thead>\n",
       "    <tr style=\"text-align: right;\">\n",
       "      <th></th>\n",
       "      <th>tip</th>\n",
       "      <th>total_bill</th>\n",
       "    </tr>\n",
       "  </thead>\n",
       "  <tbody>\n",
       "    <tr>\n",
       "      <th>tip</th>\n",
       "      <td>1.000000</td>\n",
       "      <td>0.675734</td>\n",
       "    </tr>\n",
       "    <tr>\n",
       "      <th>total_bill</th>\n",
       "      <td>0.675734</td>\n",
       "      <td>1.000000</td>\n",
       "    </tr>\n",
       "  </tbody>\n",
       "</table>\n",
       "</div>"
      ],
      "text/plain": [
       "                 tip  total_bill\n",
       "tip         1.000000    0.675734\n",
       "total_bill  0.675734    1.000000"
      ]
     },
     "execution_count": 8,
     "metadata": {},
     "output_type": "execute_result"
    }
   ],
   "source": [
    "#Correlation between tip and total bill\n",
    "df[['tip', 'total_bill']].corr() "
   ]
  },
  {
   "cell_type": "code",
   "execution_count": 11,
   "id": "892578a6",
   "metadata": {},
   "outputs": [
    {
     "data": {
      "application/vnd.microsoft.datawrangler.viewer.v0+json": {
       "columns": [
        {
         "name": "index",
         "rawType": "int64",
         "type": "integer"
        },
        {
         "name": "total_bill",
         "rawType": "float64",
         "type": "float"
        },
        {
         "name": "tip",
         "rawType": "float64",
         "type": "float"
        },
        {
         "name": "sex",
         "rawType": "category",
         "type": "unknown"
        },
        {
         "name": "smoker",
         "rawType": "category",
         "type": "unknown"
        },
        {
         "name": "day",
         "rawType": "category",
         "type": "unknown"
        },
        {
         "name": "time",
         "rawType": "category",
         "type": "unknown"
        },
        {
         "name": "size",
         "rawType": "int64",
         "type": "integer"
        }
       ],
       "ref": "304ac657-ee6d-4977-9dda-6345df065ead",
       "rows": [
        [
         "23",
         "39.42",
         "7.58",
         "Male",
         "No",
         "Sat",
         "Dinner",
         "4"
        ],
        [
         "44",
         "30.4",
         "5.6",
         "Male",
         "No",
         "Sun",
         "Dinner",
         "4"
        ],
        [
         "47",
         "32.4",
         "6.0",
         "Male",
         "No",
         "Sun",
         "Dinner",
         "4"
        ],
        [
         "52",
         "34.81",
         "5.2",
         "Female",
         "No",
         "Sun",
         "Dinner",
         "4"
        ],
        [
         "59",
         "48.27",
         "6.73",
         "Male",
         "No",
         "Sat",
         "Dinner",
         "4"
        ],
        [
         "85",
         "34.83",
         "5.17",
         "Female",
         "No",
         "Thur",
         "Lunch",
         "4"
        ],
        [
         "88",
         "24.71",
         "5.85",
         "Male",
         "No",
         "Thur",
         "Lunch",
         "2"
        ],
        [
         "116",
         "29.93",
         "5.07",
         "Male",
         "No",
         "Sun",
         "Dinner",
         "4"
        ],
        [
         "141",
         "34.3",
         "6.7",
         "Male",
         "No",
         "Thur",
         "Lunch",
         "6"
        ],
        [
         "155",
         "29.85",
         "5.14",
         "Female",
         "No",
         "Sun",
         "Dinner",
         "5"
        ],
        [
         "170",
         "50.81",
         "10.0",
         "Male",
         "Yes",
         "Sat",
         "Dinner",
         "3"
        ],
        [
         "172",
         "7.25",
         "5.15",
         "Male",
         "Yes",
         "Sun",
         "Dinner",
         "2"
        ],
        [
         "181",
         "23.33",
         "5.65",
         "Male",
         "Yes",
         "Sun",
         "Dinner",
         "2"
        ],
        [
         "183",
         "23.17",
         "6.5",
         "Male",
         "Yes",
         "Sun",
         "Dinner",
         "4"
        ],
        [
         "211",
         "25.89",
         "5.16",
         "Male",
         "Yes",
         "Sat",
         "Dinner",
         "4"
        ],
        [
         "212",
         "48.33",
         "9.0",
         "Male",
         "No",
         "Sat",
         "Dinner",
         "4"
        ],
        [
         "214",
         "28.17",
         "6.5",
         "Female",
         "Yes",
         "Sat",
         "Dinner",
         "3"
        ],
        [
         "239",
         "29.03",
         "5.92",
         "Male",
         "No",
         "Sat",
         "Dinner",
         "3"
        ]
       ],
       "shape": {
        "columns": 7,
        "rows": 18
       }
      },
      "text/html": [
       "<div>\n",
       "<style scoped>\n",
       "    .dataframe tbody tr th:only-of-type {\n",
       "        vertical-align: middle;\n",
       "    }\n",
       "\n",
       "    .dataframe tbody tr th {\n",
       "        vertical-align: top;\n",
       "    }\n",
       "\n",
       "    .dataframe thead th {\n",
       "        text-align: right;\n",
       "    }\n",
       "</style>\n",
       "<table border=\"1\" class=\"dataframe\">\n",
       "  <thead>\n",
       "    <tr style=\"text-align: right;\">\n",
       "      <th></th>\n",
       "      <th>total_bill</th>\n",
       "      <th>tip</th>\n",
       "      <th>sex</th>\n",
       "      <th>smoker</th>\n",
       "      <th>day</th>\n",
       "      <th>time</th>\n",
       "      <th>size</th>\n",
       "    </tr>\n",
       "  </thead>\n",
       "  <tbody>\n",
       "    <tr>\n",
       "      <th>23</th>\n",
       "      <td>39.42</td>\n",
       "      <td>7.58</td>\n",
       "      <td>Male</td>\n",
       "      <td>No</td>\n",
       "      <td>Sat</td>\n",
       "      <td>Dinner</td>\n",
       "      <td>4</td>\n",
       "    </tr>\n",
       "    <tr>\n",
       "      <th>44</th>\n",
       "      <td>30.40</td>\n",
       "      <td>5.60</td>\n",
       "      <td>Male</td>\n",
       "      <td>No</td>\n",
       "      <td>Sun</td>\n",
       "      <td>Dinner</td>\n",
       "      <td>4</td>\n",
       "    </tr>\n",
       "    <tr>\n",
       "      <th>47</th>\n",
       "      <td>32.40</td>\n",
       "      <td>6.00</td>\n",
       "      <td>Male</td>\n",
       "      <td>No</td>\n",
       "      <td>Sun</td>\n",
       "      <td>Dinner</td>\n",
       "      <td>4</td>\n",
       "    </tr>\n",
       "    <tr>\n",
       "      <th>52</th>\n",
       "      <td>34.81</td>\n",
       "      <td>5.20</td>\n",
       "      <td>Female</td>\n",
       "      <td>No</td>\n",
       "      <td>Sun</td>\n",
       "      <td>Dinner</td>\n",
       "      <td>4</td>\n",
       "    </tr>\n",
       "    <tr>\n",
       "      <th>59</th>\n",
       "      <td>48.27</td>\n",
       "      <td>6.73</td>\n",
       "      <td>Male</td>\n",
       "      <td>No</td>\n",
       "      <td>Sat</td>\n",
       "      <td>Dinner</td>\n",
       "      <td>4</td>\n",
       "    </tr>\n",
       "    <tr>\n",
       "      <th>85</th>\n",
       "      <td>34.83</td>\n",
       "      <td>5.17</td>\n",
       "      <td>Female</td>\n",
       "      <td>No</td>\n",
       "      <td>Thur</td>\n",
       "      <td>Lunch</td>\n",
       "      <td>4</td>\n",
       "    </tr>\n",
       "    <tr>\n",
       "      <th>88</th>\n",
       "      <td>24.71</td>\n",
       "      <td>5.85</td>\n",
       "      <td>Male</td>\n",
       "      <td>No</td>\n",
       "      <td>Thur</td>\n",
       "      <td>Lunch</td>\n",
       "      <td>2</td>\n",
       "    </tr>\n",
       "    <tr>\n",
       "      <th>116</th>\n",
       "      <td>29.93</td>\n",
       "      <td>5.07</td>\n",
       "      <td>Male</td>\n",
       "      <td>No</td>\n",
       "      <td>Sun</td>\n",
       "      <td>Dinner</td>\n",
       "      <td>4</td>\n",
       "    </tr>\n",
       "    <tr>\n",
       "      <th>141</th>\n",
       "      <td>34.30</td>\n",
       "      <td>6.70</td>\n",
       "      <td>Male</td>\n",
       "      <td>No</td>\n",
       "      <td>Thur</td>\n",
       "      <td>Lunch</td>\n",
       "      <td>6</td>\n",
       "    </tr>\n",
       "    <tr>\n",
       "      <th>155</th>\n",
       "      <td>29.85</td>\n",
       "      <td>5.14</td>\n",
       "      <td>Female</td>\n",
       "      <td>No</td>\n",
       "      <td>Sun</td>\n",
       "      <td>Dinner</td>\n",
       "      <td>5</td>\n",
       "    </tr>\n",
       "    <tr>\n",
       "      <th>170</th>\n",
       "      <td>50.81</td>\n",
       "      <td>10.00</td>\n",
       "      <td>Male</td>\n",
       "      <td>Yes</td>\n",
       "      <td>Sat</td>\n",
       "      <td>Dinner</td>\n",
       "      <td>3</td>\n",
       "    </tr>\n",
       "    <tr>\n",
       "      <th>172</th>\n",
       "      <td>7.25</td>\n",
       "      <td>5.15</td>\n",
       "      <td>Male</td>\n",
       "      <td>Yes</td>\n",
       "      <td>Sun</td>\n",
       "      <td>Dinner</td>\n",
       "      <td>2</td>\n",
       "    </tr>\n",
       "    <tr>\n",
       "      <th>181</th>\n",
       "      <td>23.33</td>\n",
       "      <td>5.65</td>\n",
       "      <td>Male</td>\n",
       "      <td>Yes</td>\n",
       "      <td>Sun</td>\n",
       "      <td>Dinner</td>\n",
       "      <td>2</td>\n",
       "    </tr>\n",
       "    <tr>\n",
       "      <th>183</th>\n",
       "      <td>23.17</td>\n",
       "      <td>6.50</td>\n",
       "      <td>Male</td>\n",
       "      <td>Yes</td>\n",
       "      <td>Sun</td>\n",
       "      <td>Dinner</td>\n",
       "      <td>4</td>\n",
       "    </tr>\n",
       "    <tr>\n",
       "      <th>211</th>\n",
       "      <td>25.89</td>\n",
       "      <td>5.16</td>\n",
       "      <td>Male</td>\n",
       "      <td>Yes</td>\n",
       "      <td>Sat</td>\n",
       "      <td>Dinner</td>\n",
       "      <td>4</td>\n",
       "    </tr>\n",
       "    <tr>\n",
       "      <th>212</th>\n",
       "      <td>48.33</td>\n",
       "      <td>9.00</td>\n",
       "      <td>Male</td>\n",
       "      <td>No</td>\n",
       "      <td>Sat</td>\n",
       "      <td>Dinner</td>\n",
       "      <td>4</td>\n",
       "    </tr>\n",
       "    <tr>\n",
       "      <th>214</th>\n",
       "      <td>28.17</td>\n",
       "      <td>6.50</td>\n",
       "      <td>Female</td>\n",
       "      <td>Yes</td>\n",
       "      <td>Sat</td>\n",
       "      <td>Dinner</td>\n",
       "      <td>3</td>\n",
       "    </tr>\n",
       "    <tr>\n",
       "      <th>239</th>\n",
       "      <td>29.03</td>\n",
       "      <td>5.92</td>\n",
       "      <td>Male</td>\n",
       "      <td>No</td>\n",
       "      <td>Sat</td>\n",
       "      <td>Dinner</td>\n",
       "      <td>3</td>\n",
       "    </tr>\n",
       "  </tbody>\n",
       "</table>\n",
       "</div>"
      ],
      "text/plain": [
       "     total_bill    tip     sex smoker   day    time  size\n",
       "23        39.42   7.58    Male     No   Sat  Dinner     4\n",
       "44        30.40   5.60    Male     No   Sun  Dinner     4\n",
       "47        32.40   6.00    Male     No   Sun  Dinner     4\n",
       "52        34.81   5.20  Female     No   Sun  Dinner     4\n",
       "59        48.27   6.73    Male     No   Sat  Dinner     4\n",
       "85        34.83   5.17  Female     No  Thur   Lunch     4\n",
       "88        24.71   5.85    Male     No  Thur   Lunch     2\n",
       "116       29.93   5.07    Male     No   Sun  Dinner     4\n",
       "141       34.30   6.70    Male     No  Thur   Lunch     6\n",
       "155       29.85   5.14  Female     No   Sun  Dinner     5\n",
       "170       50.81  10.00    Male    Yes   Sat  Dinner     3\n",
       "172        7.25   5.15    Male    Yes   Sun  Dinner     2\n",
       "181       23.33   5.65    Male    Yes   Sun  Dinner     2\n",
       "183       23.17   6.50    Male    Yes   Sun  Dinner     4\n",
       "211       25.89   5.16    Male    Yes   Sat  Dinner     4\n",
       "212       48.33   9.00    Male     No   Sat  Dinner     4\n",
       "214       28.17   6.50  Female    Yes   Sat  Dinner     3\n",
       "239       29.03   5.92    Male     No   Sat  Dinner     3"
      ]
     },
     "execution_count": 11,
     "metadata": {},
     "output_type": "execute_result"
    }
   ],
   "source": [
    "#common transformations\n",
    "#Who tiped more than 5 dollars?\n",
    "df[df['tip'] > 5]"
   ]
  },
  {
   "cell_type": "code",
   "execution_count": 15,
   "id": "4fabc04d",
   "metadata": {},
   "outputs": [
    {
     "data": {
      "application/vnd.microsoft.datawrangler.viewer.v0+json": {
       "columns": [
        {
         "name": "index",
         "rawType": "int64",
         "type": "integer"
        },
        {
         "name": "total_bill",
         "rawType": "float64",
         "type": "float"
        },
        {
         "name": "tip",
         "rawType": "float64",
         "type": "float"
        },
        {
         "name": "sex",
         "rawType": "category",
         "type": "unknown"
        },
        {
         "name": "smoker",
         "rawType": "category",
         "type": "unknown"
        },
        {
         "name": "day",
         "rawType": "category",
         "type": "unknown"
        },
        {
         "name": "time",
         "rawType": "category",
         "type": "unknown"
        },
        {
         "name": "size",
         "rawType": "int64",
         "type": "integer"
        },
        {
         "name": "tip_percentage",
         "rawType": "float64",
         "type": "float"
        }
       ],
       "ref": "7679442c-1b9a-4e0f-8b2e-5a0af7c3ea3b",
       "rows": [
        [
         "0",
         "16.99",
         "1.01",
         "Female",
         "No",
         "Sun",
         "Dinner",
         "2",
         "5.94"
        ],
        [
         "1",
         "10.34",
         "1.66",
         "Male",
         "No",
         "Sun",
         "Dinner",
         "3",
         "16.05"
        ],
        [
         "2",
         "21.01",
         "3.5",
         "Male",
         "No",
         "Sun",
         "Dinner",
         "3",
         "16.66"
        ],
        [
         "3",
         "23.68",
         "3.31",
         "Male",
         "No",
         "Sun",
         "Dinner",
         "2",
         "13.98"
        ],
        [
         "4",
         "24.59",
         "3.61",
         "Female",
         "No",
         "Sun",
         "Dinner",
         "4",
         "14.68"
        ]
       ],
       "shape": {
        "columns": 8,
        "rows": 5
       }
      },
      "text/html": [
       "<div>\n",
       "<style scoped>\n",
       "    .dataframe tbody tr th:only-of-type {\n",
       "        vertical-align: middle;\n",
       "    }\n",
       "\n",
       "    .dataframe tbody tr th {\n",
       "        vertical-align: top;\n",
       "    }\n",
       "\n",
       "    .dataframe thead th {\n",
       "        text-align: right;\n",
       "    }\n",
       "</style>\n",
       "<table border=\"1\" class=\"dataframe\">\n",
       "  <thead>\n",
       "    <tr style=\"text-align: right;\">\n",
       "      <th></th>\n",
       "      <th>total_bill</th>\n",
       "      <th>tip</th>\n",
       "      <th>sex</th>\n",
       "      <th>smoker</th>\n",
       "      <th>day</th>\n",
       "      <th>time</th>\n",
       "      <th>size</th>\n",
       "      <th>tip_percentage</th>\n",
       "    </tr>\n",
       "  </thead>\n",
       "  <tbody>\n",
       "    <tr>\n",
       "      <th>0</th>\n",
       "      <td>16.99</td>\n",
       "      <td>1.01</td>\n",
       "      <td>Female</td>\n",
       "      <td>No</td>\n",
       "      <td>Sun</td>\n",
       "      <td>Dinner</td>\n",
       "      <td>2</td>\n",
       "      <td>5.94</td>\n",
       "    </tr>\n",
       "    <tr>\n",
       "      <th>1</th>\n",
       "      <td>10.34</td>\n",
       "      <td>1.66</td>\n",
       "      <td>Male</td>\n",
       "      <td>No</td>\n",
       "      <td>Sun</td>\n",
       "      <td>Dinner</td>\n",
       "      <td>3</td>\n",
       "      <td>16.05</td>\n",
       "    </tr>\n",
       "    <tr>\n",
       "      <th>2</th>\n",
       "      <td>21.01</td>\n",
       "      <td>3.50</td>\n",
       "      <td>Male</td>\n",
       "      <td>No</td>\n",
       "      <td>Sun</td>\n",
       "      <td>Dinner</td>\n",
       "      <td>3</td>\n",
       "      <td>16.66</td>\n",
       "    </tr>\n",
       "    <tr>\n",
       "      <th>3</th>\n",
       "      <td>23.68</td>\n",
       "      <td>3.31</td>\n",
       "      <td>Male</td>\n",
       "      <td>No</td>\n",
       "      <td>Sun</td>\n",
       "      <td>Dinner</td>\n",
       "      <td>2</td>\n",
       "      <td>13.98</td>\n",
       "    </tr>\n",
       "    <tr>\n",
       "      <th>4</th>\n",
       "      <td>24.59</td>\n",
       "      <td>3.61</td>\n",
       "      <td>Female</td>\n",
       "      <td>No</td>\n",
       "      <td>Sun</td>\n",
       "      <td>Dinner</td>\n",
       "      <td>4</td>\n",
       "      <td>14.68</td>\n",
       "    </tr>\n",
       "  </tbody>\n",
       "</table>\n",
       "</div>"
      ],
      "text/plain": [
       "   total_bill   tip     sex smoker  day    time  size  tip_percentage\n",
       "0       16.99  1.01  Female     No  Sun  Dinner     2            5.94\n",
       "1       10.34  1.66    Male     No  Sun  Dinner     3           16.05\n",
       "2       21.01  3.50    Male     No  Sun  Dinner     3           16.66\n",
       "3       23.68  3.31    Male     No  Sun  Dinner     2           13.98\n",
       "4       24.59  3.61  Female     No  Sun  Dinner     4           14.68"
      ]
     },
     "execution_count": 15,
     "metadata": {},
     "output_type": "execute_result"
    }
   ],
   "source": [
    "#create a new column for tip percentage\n",
    "df['tip_percentage'] = ((df['tip'] / df['total_bill'])*100).round(2)\n",
    "df.head()"
   ]
  },
  {
   "cell_type": "code",
   "execution_count": 21,
   "id": "5d81fce0",
   "metadata": {},
   "outputs": [
    {
     "name": "stderr",
     "output_type": "stream",
     "text": [
      "C:\\Users\\tb975\\AppData\\Local\\Temp\\ipykernel_1176\\1662348653.py:2: FutureWarning: The default of observed=False is deprecated and will be changed to True in a future version of pandas. Pass observed=False to retain current behavior or observed=True to adopt the future default and silence this warning.\n",
      "  df.groupby('day')['tip'].mean().round(2)\n"
     ]
    },
    {
     "data": {
      "application/vnd.microsoft.datawrangler.viewer.v0+json": {
       "columns": [
        {
         "name": "day",
         "rawType": "category",
         "type": "unknown"
        },
        {
         "name": "tip",
         "rawType": "float64",
         "type": "float"
        }
       ],
       "ref": "e4fc1b9d-3099-4c1f-b356-06f3a2f83553",
       "rows": [
        [
         "Thur",
         "2.77"
        ],
        [
         "Fri",
         "2.73"
        ],
        [
         "Sat",
         "2.99"
        ],
        [
         "Sun",
         "3.26"
        ]
       ],
       "shape": {
        "columns": 1,
        "rows": 4
       }
      },
      "text/plain": [
       "day\n",
       "Thur    2.77\n",
       "Fri     2.73\n",
       "Sat     2.99\n",
       "Sun     3.26\n",
       "Name: tip, dtype: float64"
      ]
     },
     "execution_count": 21,
     "metadata": {},
     "output_type": "execute_result"
    }
   ],
   "source": [
    "# group by day and get average tip\n",
    "df.groupby('day')['tip'].mean().round(2)\n",
    "\n"
   ]
  },
  {
   "cell_type": "code",
   "execution_count": 22,
   "id": "ce2d427d",
   "metadata": {},
   "outputs": [
    {
     "name": "stderr",
     "output_type": "stream",
     "text": [
      "C:\\Users\\tb975\\AppData\\Local\\Temp\\ipykernel_1176\\3577496625.py:2: FutureWarning: The default of observed=False is deprecated and will be changed to True in a future version of pandas. Pass observed=False to retain current behavior or observed=True to adopt the future default and silence this warning.\n",
      "  df.groupby('day')['tip_percentage'].mean().round(2)\n"
     ]
    },
    {
     "data": {
      "application/vnd.microsoft.datawrangler.viewer.v0+json": {
       "columns": [
        {
         "name": "day",
         "rawType": "category",
         "type": "unknown"
        },
        {
         "name": "tip_percentage",
         "rawType": "float64",
         "type": "float"
        }
       ],
       "ref": "bf32acb0-ac8f-44c4-959e-78d69910d12d",
       "rows": [
        [
         "Thur",
         "16.13"
        ],
        [
         "Fri",
         "16.99"
        ],
        [
         "Sat",
         "15.31"
        ],
        [
         "Sun",
         "16.69"
        ]
       ],
       "shape": {
        "columns": 1,
        "rows": 4
       }
      },
      "text/plain": [
       "day\n",
       "Thur    16.13\n",
       "Fri     16.99\n",
       "Sat     15.31\n",
       "Sun     16.69\n",
       "Name: tip_percentage, dtype: float64"
      ]
     },
     "execution_count": 22,
     "metadata": {},
     "output_type": "execute_result"
    }
   ],
   "source": [
    "# group by day and get average tip percentage\n",
    "df.groupby('day')['tip_percentage'].mean().round(2)"
   ]
  },
  {
   "cell_type": "code",
   "execution_count": 25,
   "id": "a1b20aa1",
   "metadata": {},
   "outputs": [
    {
     "data": {
      "application/vnd.microsoft.datawrangler.viewer.v0+json": {
       "columns": [
        {
         "name": "index",
         "rawType": "int64",
         "type": "integer"
        },
        {
         "name": "total_bill",
         "rawType": "float64",
         "type": "float"
        },
        {
         "name": "tip",
         "rawType": "float64",
         "type": "float"
        },
        {
         "name": "sex",
         "rawType": "category",
         "type": "unknown"
        },
        {
         "name": "smoker",
         "rawType": "category",
         "type": "unknown"
        },
        {
         "name": "day",
         "rawType": "category",
         "type": "unknown"
        },
        {
         "name": "time",
         "rawType": "category",
         "type": "unknown"
        },
        {
         "name": "size",
         "rawType": "int64",
         "type": "integer"
        },
        {
         "name": "tip_percentage",
         "rawType": "float64",
         "type": "float"
        }
       ],
       "ref": "611135f0-9729-4c21-b02c-7c808894e6ae",
       "rows": [
        [
         "170",
         "50.81",
         "10.0",
         "Male",
         "Yes",
         "Sat",
         "Dinner",
         "3",
         "19.68"
        ],
        [
         "212",
         "48.33",
         "9.0",
         "Male",
         "No",
         "Sat",
         "Dinner",
         "4",
         "18.62"
        ],
        [
         "23",
         "39.42",
         "7.58",
         "Male",
         "No",
         "Sat",
         "Dinner",
         "4",
         "19.23"
        ],
        [
         "59",
         "48.27",
         "6.73",
         "Male",
         "No",
         "Sat",
         "Dinner",
         "4",
         "13.94"
        ],
        [
         "141",
         "34.3",
         "6.7",
         "Male",
         "No",
         "Thur",
         "Lunch",
         "6",
         "19.53"
        ],
        [
         "183",
         "23.17",
         "6.5",
         "Male",
         "Yes",
         "Sun",
         "Dinner",
         "4",
         "28.05"
        ],
        [
         "214",
         "28.17",
         "6.5",
         "Female",
         "Yes",
         "Sat",
         "Dinner",
         "3",
         "23.07"
        ]
       ],
       "shape": {
        "columns": 8,
        "rows": 7
       }
      },
      "text/html": [
       "<div>\n",
       "<style scoped>\n",
       "    .dataframe tbody tr th:only-of-type {\n",
       "        vertical-align: middle;\n",
       "    }\n",
       "\n",
       "    .dataframe tbody tr th {\n",
       "        vertical-align: top;\n",
       "    }\n",
       "\n",
       "    .dataframe thead th {\n",
       "        text-align: right;\n",
       "    }\n",
       "</style>\n",
       "<table border=\"1\" class=\"dataframe\">\n",
       "  <thead>\n",
       "    <tr style=\"text-align: right;\">\n",
       "      <th></th>\n",
       "      <th>total_bill</th>\n",
       "      <th>tip</th>\n",
       "      <th>sex</th>\n",
       "      <th>smoker</th>\n",
       "      <th>day</th>\n",
       "      <th>time</th>\n",
       "      <th>size</th>\n",
       "      <th>tip_percentage</th>\n",
       "    </tr>\n",
       "  </thead>\n",
       "  <tbody>\n",
       "    <tr>\n",
       "      <th>170</th>\n",
       "      <td>50.81</td>\n",
       "      <td>10.00</td>\n",
       "      <td>Male</td>\n",
       "      <td>Yes</td>\n",
       "      <td>Sat</td>\n",
       "      <td>Dinner</td>\n",
       "      <td>3</td>\n",
       "      <td>19.68</td>\n",
       "    </tr>\n",
       "    <tr>\n",
       "      <th>212</th>\n",
       "      <td>48.33</td>\n",
       "      <td>9.00</td>\n",
       "      <td>Male</td>\n",
       "      <td>No</td>\n",
       "      <td>Sat</td>\n",
       "      <td>Dinner</td>\n",
       "      <td>4</td>\n",
       "      <td>18.62</td>\n",
       "    </tr>\n",
       "    <tr>\n",
       "      <th>23</th>\n",
       "      <td>39.42</td>\n",
       "      <td>7.58</td>\n",
       "      <td>Male</td>\n",
       "      <td>No</td>\n",
       "      <td>Sat</td>\n",
       "      <td>Dinner</td>\n",
       "      <td>4</td>\n",
       "      <td>19.23</td>\n",
       "    </tr>\n",
       "    <tr>\n",
       "      <th>59</th>\n",
       "      <td>48.27</td>\n",
       "      <td>6.73</td>\n",
       "      <td>Male</td>\n",
       "      <td>No</td>\n",
       "      <td>Sat</td>\n",
       "      <td>Dinner</td>\n",
       "      <td>4</td>\n",
       "      <td>13.94</td>\n",
       "    </tr>\n",
       "    <tr>\n",
       "      <th>141</th>\n",
       "      <td>34.30</td>\n",
       "      <td>6.70</td>\n",
       "      <td>Male</td>\n",
       "      <td>No</td>\n",
       "      <td>Thur</td>\n",
       "      <td>Lunch</td>\n",
       "      <td>6</td>\n",
       "      <td>19.53</td>\n",
       "    </tr>\n",
       "    <tr>\n",
       "      <th>183</th>\n",
       "      <td>23.17</td>\n",
       "      <td>6.50</td>\n",
       "      <td>Male</td>\n",
       "      <td>Yes</td>\n",
       "      <td>Sun</td>\n",
       "      <td>Dinner</td>\n",
       "      <td>4</td>\n",
       "      <td>28.05</td>\n",
       "    </tr>\n",
       "    <tr>\n",
       "      <th>214</th>\n",
       "      <td>28.17</td>\n",
       "      <td>6.50</td>\n",
       "      <td>Female</td>\n",
       "      <td>Yes</td>\n",
       "      <td>Sat</td>\n",
       "      <td>Dinner</td>\n",
       "      <td>3</td>\n",
       "      <td>23.07</td>\n",
       "    </tr>\n",
       "  </tbody>\n",
       "</table>\n",
       "</div>"
      ],
      "text/plain": [
       "     total_bill    tip     sex smoker   day    time  size  tip_percentage\n",
       "170       50.81  10.00    Male    Yes   Sat  Dinner     3           19.68\n",
       "212       48.33   9.00    Male     No   Sat  Dinner     4           18.62\n",
       "23        39.42   7.58    Male     No   Sat  Dinner     4           19.23\n",
       "59        48.27   6.73    Male     No   Sat  Dinner     4           13.94\n",
       "141       34.30   6.70    Male     No  Thur   Lunch     6           19.53\n",
       "183       23.17   6.50    Male    Yes   Sun  Dinner     4           28.05\n",
       "214       28.17   6.50  Female    Yes   Sat  Dinner     3           23.07"
      ]
     },
     "execution_count": 25,
     "metadata": {},
     "output_type": "execute_result"
    }
   ],
   "source": [
    "#sort to find the 7 biggest tips\n",
    "\n",
    "df.sort_values('tip', ascending=False).head(7)\n",
    "\n",
    "\n"
   ]
  },
  {
   "cell_type": "code",
   "execution_count": 26,
   "id": "aef4d031",
   "metadata": {},
   "outputs": [
    {
     "data": {
      "image/png": "[encoded data removed]",
      "text/plain": [
       "<Figure size 640x480 with 1 Axes>"
      ]
     },
     "metadata": {},
     "output_type": "display_data"
    }
   ],
   "source": [
    "import matplotlib.pyplot as plt\n",
    "\n",
    "#Scatterplot total bill vs tip coloured by time SEABORN\n",
    "sns.scatterplot(data=df, x='total_bill', y='tip', hue='time')\n",
    "plt.title('Total Bill vs Tip by Time')\n",
    "plt.show()"
   ]
  },
  {
   "cell_type": "code",
   "execution_count": null,
   "id": "002bde16",
   "metadata": {},
   "outputs": [
    {
     "name": "stderr",
     "output_type": "stream",
     "text": [
      "C:\\Users\\tb975\\AppData\\Local\\Temp\\ipykernel_1176\\3030560261.py:11: FutureWarning: The default of observed=False is deprecated and will be changed to True in a future version of pandas. Pass observed=False to retain current behavior or observed=True to adopt the future default and silence this warning.\n",
      "  df.groupby(by='smoker')[['tip', 'total_bill']].mean().reset_index()\n"
     ]
    },
    {
     "data": {
      "application/vnd.microsoft.datawrangler.viewer.v0+json": {
       "columns": [
        {
         "name": "index",
         "rawType": "int64",
         "type": "integer"
        },
        {
         "name": "smoker",
         "rawType": "category",
         "type": "unknown"
        },
        {
         "name": "tip",
         "rawType": "float64",
         "type": "float"
        },
        {
         "name": "total_bill",
         "rawType": "float64",
         "type": "float"
        }
       ],
       "ref": "71995bf0-897b-49b4-aeba-1dfdc1b3c3ff",
       "rows": [
        [
         "0",
         "Yes",
         "3.008709677419355",
         "20.756344086021503"
        ],
        [
         "1",
         "No",
         "2.9918543046357615",
         "19.188278145695364"
        ]
       ],
       "shape": {
        "columns": 3,
        "rows": 2
       }
      },
      "text/html": [
       "<div>\n",
       "<style scoped>\n",
       "    .dataframe tbody tr th:only-of-type {\n",
       "        vertical-align: middle;\n",
       "    }\n",
       "\n",
       "    .dataframe tbody tr th {\n",
       "        vertical-align: top;\n",
       "    }\n",
       "\n",
       "    .dataframe thead th {\n",
       "        text-align: right;\n",
       "    }\n",
       "</style>\n",
       "<table border=\"1\" class=\"dataframe\">\n",
       "  <thead>\n",
       "    <tr style=\"text-align: right;\">\n",
       "      <th></th>\n",
       "      <th>smoker</th>\n",
       "      <th>tip</th>\n",
       "      <th>total_bill</th>\n",
       "    </tr>\n",
       "  </thead>\n",
       "  <tbody>\n",
       "    <tr>\n",
       "      <th>0</th>\n",
       "      <td>Yes</td>\n",
       "      <td>3.008710</td>\n",
       "      <td>20.756344</td>\n",
       "    </tr>\n",
       "    <tr>\n",
       "      <th>1</th>\n",
       "      <td>No</td>\n",
       "      <td>2.991854</td>\n",
       "      <td>19.188278</td>\n",
       "    </tr>\n",
       "  </tbody>\n",
       "</table>\n",
       "</div>"
      ],
      "text/plain": [
       "  smoker       tip  total_bill\n",
       "0    Yes  3.008710   20.756344\n",
       "1     No  2.991854   19.188278"
      ]
     },
     "execution_count": 51,
     "metadata": {},
     "output_type": "execute_result"
    }
   ],
   "source": [
    "#Tasks to complete\n",
    "\n",
    "#1. How would you find the average tip per smoker/non-smoker\n",
    "#2. How do you display only rows where the tip was greater than 15%\n",
    "#3. How many lunch vs dinner transations are in the dataset?\n",
    "\n",
    "\n",
    "#1. How would you find the average tip per smoker/non-smoker\n",
    "#I added in an extra column of total_bill from a question that GPT asked me\n",
    "\n",
    "df.groupby(by='smoker')[['tip', 'total_bill']].mean().reset_index()"
   ]
  },
  {
   "cell_type": "code",
   "execution_count": 55,
   "id": "ee4be8c0",
   "metadata": {},
   "outputs": [
    {
     "data": {
      "application/vnd.microsoft.datawrangler.viewer.v0+json": {
       "columns": [
        {
         "name": "index",
         "rawType": "int64",
         "type": "integer"
        },
        {
         "name": "total_bill",
         "rawType": "float64",
         "type": "float"
        },
        {
         "name": "tip",
         "rawType": "float64",
         "type": "float"
        },
        {
         "name": "sex",
         "rawType": "category",
         "type": "unknown"
        },
        {
         "name": "smoker",
         "rawType": "category",
         "type": "unknown"
        },
        {
         "name": "day",
         "rawType": "category",
         "type": "unknown"
        },
        {
         "name": "time",
         "rawType": "category",
         "type": "unknown"
        },
        {
         "name": "size",
         "rawType": "int64",
         "type": "integer"
        },
        {
         "name": "tip_percentage",
         "rawType": "float64",
         "type": "float"
        }
       ],
       "ref": "8728a800-8147-42f7-be47-e4f083884196",
       "rows": [
        [
         "1",
         "10.34",
         "1.66",
         "Male",
         "No",
         "Sun",
         "Dinner",
         "3",
         "16.05"
        ],
        [
         "2",
         "21.01",
         "3.5",
         "Male",
         "No",
         "Sun",
         "Dinner",
         "3",
         "16.66"
        ],
        [
         "5",
         "25.29",
         "4.71",
         "Male",
         "No",
         "Sun",
         "Dinner",
         "4",
         "18.62"
        ],
        [
         "6",
         "8.77",
         "2.0",
         "Male",
         "No",
         "Sun",
         "Dinner",
         "2",
         "22.81"
        ],
        [
         "9",
         "14.78",
         "3.23",
         "Male",
         "No",
         "Sun",
         "Dinner",
         "2",
         "21.85"
        ],
        [
         "10",
         "10.27",
         "1.71",
         "Male",
         "No",
         "Sun",
         "Dinner",
         "2",
         "16.65"
        ],
        [
         "13",
         "18.43",
         "3.0",
         "Male",
         "No",
         "Sun",
         "Dinner",
         "4",
         "16.28"
        ],
        [
         "14",
         "14.83",
         "3.02",
         "Female",
         "No",
         "Sun",
         "Dinner",
         "2",
         "20.36"
        ],
        [
         "15",
         "21.58",
         "3.92",
         "Male",
         "No",
         "Sun",
         "Dinner",
         "2",
         "18.16"
        ],
        [
         "16",
         "10.33",
         "1.67",
         "Female",
         "No",
         "Sun",
         "Dinner",
         "3",
         "16.17"
        ],
        [
         "17",
         "16.29",
         "3.71",
         "Male",
         "No",
         "Sun",
         "Dinner",
         "3",
         "22.77"
        ],
        [
         "18",
         "16.97",
         "3.5",
         "Female",
         "No",
         "Sun",
         "Dinner",
         "3",
         "20.62"
        ],
        [
         "19",
         "20.65",
         "3.35",
         "Male",
         "No",
         "Sat",
         "Dinner",
         "3",
         "16.22"
        ],
        [
         "20",
         "17.92",
         "4.08",
         "Male",
         "No",
         "Sat",
         "Dinner",
         "2",
         "22.77"
        ],
        [
         "23",
         "39.42",
         "7.58",
         "Male",
         "No",
         "Sat",
         "Dinner",
         "4",
         "19.23"
        ],
        [
         "24",
         "19.82",
         "3.18",
         "Male",
         "No",
         "Sat",
         "Dinner",
         "2",
         "16.04"
        ],
        [
         "27",
         "12.69",
         "2.0",
         "Male",
         "No",
         "Sat",
         "Dinner",
         "2",
         "15.76"
        ],
        [
         "28",
         "21.7",
         "4.3",
         "Male",
         "No",
         "Sat",
         "Dinner",
         "2",
         "19.82"
        ],
        [
         "29",
         "19.65",
         "3.0",
         "Female",
         "No",
         "Sat",
         "Dinner",
         "2",
         "15.27"
        ],
        [
         "30",
         "9.55",
         "1.45",
         "Male",
         "No",
         "Sat",
         "Dinner",
         "2",
         "15.18"
        ],
        [
         "32",
         "15.06",
         "3.0",
         "Female",
         "No",
         "Sat",
         "Dinner",
         "2",
         "19.92"
        ],
        [
         "34",
         "17.78",
         "3.27",
         "Male",
         "No",
         "Sat",
         "Dinner",
         "2",
         "18.39"
        ],
        [
         "37",
         "16.93",
         "3.07",
         "Female",
         "No",
         "Sat",
         "Dinner",
         "3",
         "18.13"
        ],
        [
         "39",
         "31.27",
         "5.0",
         "Male",
         "No",
         "Sat",
         "Dinner",
         "3",
         "15.99"
        ],
        [
         "42",
         "13.94",
         "3.06",
         "Male",
         "No",
         "Sun",
         "Dinner",
         "2",
         "21.95"
        ],
        [
         "44",
         "30.4",
         "5.6",
         "Male",
         "No",
         "Sun",
         "Dinner",
         "4",
         "18.42"
        ],
        [
         "45",
         "18.29",
         "3.0",
         "Male",
         "No",
         "Sun",
         "Dinner",
         "2",
         "16.4"
        ],
        [
         "46",
         "22.23",
         "5.0",
         "Male",
         "No",
         "Sun",
         "Dinner",
         "2",
         "22.49"
        ],
        [
         "47",
         "32.4",
         "6.0",
         "Male",
         "No",
         "Sun",
         "Dinner",
         "4",
         "18.52"
        ],
        [
         "49",
         "18.04",
         "3.0",
         "Male",
         "No",
         "Sun",
         "Dinner",
         "2",
         "16.63"
        ],
        [
         "50",
         "12.54",
         "2.5",
         "Male",
         "No",
         "Sun",
         "Dinner",
         "2",
         "19.94"
        ],
        [
         "51",
         "10.29",
         "2.6",
         "Female",
         "No",
         "Sun",
         "Dinner",
         "2",
         "25.27"
        ],
        [
         "53",
         "9.94",
         "1.56",
         "Male",
         "No",
         "Sun",
         "Dinner",
         "2",
         "15.69"
        ],
        [
         "54",
         "25.56",
         "4.34",
         "Male",
         "No",
         "Sun",
         "Dinner",
         "4",
         "16.98"
        ],
        [
         "55",
         "19.49",
         "3.51",
         "Male",
         "No",
         "Sun",
         "Dinner",
         "2",
         "18.01"
        ],
        [
         "58",
         "11.24",
         "1.76",
         "Male",
         "Yes",
         "Sat",
         "Dinner",
         "2",
         "15.66"
        ],
        [
         "60",
         "20.29",
         "3.21",
         "Male",
         "Yes",
         "Sat",
         "Dinner",
         "2",
         "15.82"
        ],
        [
         "62",
         "11.02",
         "1.98",
         "Male",
         "Yes",
         "Sat",
         "Dinner",
         "2",
         "17.97"
        ],
        [
         "63",
         "18.29",
         "3.76",
         "Male",
         "Yes",
         "Sat",
         "Dinner",
         "4",
         "20.56"
        ],
        [
         "64",
         "17.59",
         "2.64",
         "Male",
         "No",
         "Sat",
         "Dinner",
         "3",
         "15.01"
        ],
        [
         "65",
         "20.08",
         "3.15",
         "Male",
         "No",
         "Sat",
         "Dinner",
         "3",
         "15.69"
        ],
        [
         "66",
         "16.45",
         "2.47",
         "Female",
         "No",
         "Sat",
         "Dinner",
         "2",
         "15.02"
        ],
        [
         "67",
         "3.07",
         "1.0",
         "Female",
         "Yes",
         "Sat",
         "Dinner",
         "1",
         "32.57"
        ],
        [
         "70",
         "12.02",
         "1.97",
         "Male",
         "No",
         "Sat",
         "Dinner",
         "2",
         "16.39"
        ],
        [
         "71",
         "17.07",
         "3.0",
         "Female",
         "No",
         "Sat",
         "Dinner",
         "3",
         "17.57"
        ],
        [
         "73",
         "25.28",
         "5.0",
         "Female",
         "Yes",
         "Sat",
         "Dinner",
         "2",
         "19.78"
        ],
        [
         "76",
         "17.92",
         "3.08",
         "Male",
         "Yes",
         "Sat",
         "Dinner",
         "2",
         "17.19"
        ],
        [
         "79",
         "17.29",
         "2.71",
         "Male",
         "No",
         "Thur",
         "Lunch",
         "2",
         "15.67"
        ],
        [
         "80",
         "19.44",
         "3.0",
         "Male",
         "Yes",
         "Thur",
         "Lunch",
         "2",
         "15.43"
        ],
        [
         "81",
         "16.66",
         "3.4",
         "Male",
         "No",
         "Thur",
         "Lunch",
         "2",
         "20.41"
        ]
       ],
       "shape": {
        "columns": 8,
        "rows": 135
       }
      },
      "text/html": [
       "<div>\n",
       "<style scoped>\n",
       "    .dataframe tbody tr th:only-of-type {\n",
       "        vertical-align: middle;\n",
       "    }\n",
       "\n",
       "    .dataframe tbody tr th {\n",
       "        vertical-align: top;\n",
       "    }\n",
       "\n",
       "    .dataframe thead th {\n",
       "        text-align: right;\n",
       "    }\n",
       "</style>\n",
       "<table border=\"1\" class=\"dataframe\">\n",
       "  <thead>\n",
       "    <tr style=\"text-align: right;\">\n",
       "      <th></th>\n",
       "      <th>total_bill</th>\n",
       "      <th>tip</th>\n",
       "      <th>sex</th>\n",
       "      <th>smoker</th>\n",
       "      <th>day</th>\n",
       "      <th>time</th>\n",
       "      <th>size</th>\n",
       "      <th>tip_percentage</th>\n",
       "    </tr>\n",
       "  </thead>\n",
       "  <tbody>\n",
       "    <tr>\n",
       "      <th>1</th>\n",
       "      <td>10.34</td>\n",
       "      <td>1.66</td>\n",
       "      <td>Male</td>\n",
       "      <td>No</td>\n",
       "      <td>Sun</td>\n",
       "      <td>Dinner</td>\n",
       "      <td>3</td>\n",
       "      <td>16.05</td>\n",
       "    </tr>\n",
       "    <tr>\n",
       "      <th>2</th>\n",
       "      <td>21.01</td>\n",
       "      <td>3.50</td>\n",
       "      <td>Male</td>\n",
       "      <td>No</td>\n",
       "      <td>Sun</td>\n",
       "      <td>Dinner</td>\n",
       "      <td>3</td>\n",
       "      <td>16.66</td>\n",
       "    </tr>\n",
       "    <tr>\n",
       "      <th>5</th>\n",
       "      <td>25.29</td>\n",
       "      <td>4.71</td>\n",
       "      <td>Male</td>\n",
       "      <td>No</td>\n",
       "      <td>Sun</td>\n",
       "      <td>Dinner</td>\n",
       "      <td>4</td>\n",
       "      <td>18.62</td>\n",
       "    </tr>\n",
       "    <tr>\n",
       "      <th>6</th>\n",
       "      <td>8.77</td>\n",
       "      <td>2.00</td>\n",
       "      <td>Male</td>\n",
       "      <td>No</td>\n",
       "      <td>Sun</td>\n",
       "      <td>Dinner</td>\n",
       "      <td>2</td>\n",
       "      <td>22.81</td>\n",
       "    </tr>\n",
       "    <tr>\n",
       "      <th>9</th>\n",
       "      <td>14.78</td>\n",
       "      <td>3.23</td>\n",
       "      <td>Male</td>\n",
       "      <td>No</td>\n",
       "      <td>Sun</td>\n",
       "      <td>Dinner</td>\n",
       "      <td>2</td>\n",
       "      <td>21.85</td>\n",
       "    </tr>\n",
       "    <tr>\n",
       "      <th>...</th>\n",
       "      <td>...</td>\n",
       "      <td>...</td>\n",
       "      <td>...</td>\n",
       "      <td>...</td>\n",
       "      <td>...</td>\n",
       "      <td>...</td>\n",
       "      <td>...</td>\n",
       "      <td>...</td>\n",
       "    </tr>\n",
       "    <tr>\n",
       "      <th>231</th>\n",
       "      <td>15.69</td>\n",
       "      <td>3.00</td>\n",
       "      <td>Male</td>\n",
       "      <td>Yes</td>\n",
       "      <td>Sat</td>\n",
       "      <td>Dinner</td>\n",
       "      <td>3</td>\n",
       "      <td>19.12</td>\n",
       "    </tr>\n",
       "    <tr>\n",
       "      <th>232</th>\n",
       "      <td>11.61</td>\n",
       "      <td>3.39</td>\n",
       "      <td>Male</td>\n",
       "      <td>No</td>\n",
       "      <td>Sat</td>\n",
       "      <td>Dinner</td>\n",
       "      <td>2</td>\n",
       "      <td>29.20</td>\n",
       "    </tr>\n",
       "    <tr>\n",
       "      <th>234</th>\n",
       "      <td>15.53</td>\n",
       "      <td>3.00</td>\n",
       "      <td>Male</td>\n",
       "      <td>Yes</td>\n",
       "      <td>Sat</td>\n",
       "      <td>Dinner</td>\n",
       "      <td>2</td>\n",
       "      <td>19.32</td>\n",
       "    </tr>\n",
       "    <tr>\n",
       "      <th>239</th>\n",
       "      <td>29.03</td>\n",
       "      <td>5.92</td>\n",
       "      <td>Male</td>\n",
       "      <td>No</td>\n",
       "      <td>Sat</td>\n",
       "      <td>Dinner</td>\n",
       "      <td>3</td>\n",
       "      <td>20.39</td>\n",
       "    </tr>\n",
       "    <tr>\n",
       "      <th>243</th>\n",
       "      <td>18.78</td>\n",
       "      <td>3.00</td>\n",
       "      <td>Female</td>\n",
       "      <td>No</td>\n",
       "      <td>Thur</td>\n",
       "      <td>Dinner</td>\n",
       "      <td>2</td>\n",
       "      <td>15.97</td>\n",
       "    </tr>\n",
       "  </tbody>\n",
       "</table>\n",
       "<p>135 rows × 8 columns</p>\n",
       "</div>"
      ],
      "text/plain": [
       "     total_bill   tip     sex smoker   day    time  size  tip_percentage\n",
       "1         10.34  1.66    Male     No   Sun  Dinner     3           16.05\n",
       "2         21.01  3.50    Male     No   Sun  Dinner     3           16.66\n",
       "5         25.29  4.71    Male     No   Sun  Dinner     4           18.62\n",
       "6          8.77  2.00    Male     No   Sun  Dinner     2           22.81\n",
       "9         14.78  3.23    Male     No   Sun  Dinner     2           21.85\n",
       "..          ...   ...     ...    ...   ...     ...   ...             ...\n",
       "231       15.69  3.00    Male    Yes   Sat  Dinner     3           19.12\n",
       "232       11.61  3.39    Male     No   Sat  Dinner     2           29.20\n",
       "234       15.53  3.00    Male    Yes   Sat  Dinner     2           19.32\n",
       "239       29.03  5.92    Male     No   Sat  Dinner     3           20.39\n",
       "243       18.78  3.00  Female     No  Thur  Dinner     2           15.97\n",
       "\n",
       "[135 rows x 8 columns]"
      ]
     },
     "execution_count": 55,
     "metadata": {},
     "output_type": "execute_result"
    }
   ],
   "source": [
    "#2. How do you display only rows where the tip was greater than 15%\n",
    "#I want just the rows where tip_percentage is greater than 15\n",
    "\n",
    "df.query('tip_percentage > 15')\n",
    "#df.head()"
   ]
  },
  {
   "cell_type": "code",
   "execution_count": 64,
   "id": "2519251b",
   "metadata": {},
   "outputs": [
    {
     "data": {
      "application/vnd.microsoft.datawrangler.viewer.v0+json": {
       "columns": [
        {
         "name": "time",
         "rawType": "category",
         "type": "unknown"
        },
        {
         "name": "count",
         "rawType": "int64",
         "type": "integer"
        }
       ],
       "ref": "7de5e61e-1ed3-46d7-ae34-eb1b20757567",
       "rows": [
        [
         "Dinner",
         "176"
        ],
        [
         "Lunch",
         "68"
        ]
       ],
       "shape": {
        "columns": 1,
        "rows": 2
       }
      },
      "text/plain": [
       "time\n",
       "Dinner    176\n",
       "Lunch      68\n",
       "Name: count, dtype: int64"
      ]
     },
     "execution_count": 64,
     "metadata": {},
     "output_type": "execute_result"
    }
   ],
   "source": [
    "#3. How many lunch vs dinner transations are in the dataset?\n",
    "df['time'].value_counts()"
   ]
  }
 ],
 "metadata": {
  "kernelspec": {
   "display_name": ".venv",
   "language": "python",
   "name": "python3"
  },
  "language_info": {
   "codemirror_mode": {
    "name": "ipython",
    "version": 3
   },
   "file_extension": ".py",
   "mimetype": "text/x-python",
   "name": "python",
   "nbconvert_exporter": "python",
   "pygments_lexer": "ipython3",
   "version": "3.12.10"
  }
 },
 "nbformat": 4,
 "nbformat_minor": 5
}
